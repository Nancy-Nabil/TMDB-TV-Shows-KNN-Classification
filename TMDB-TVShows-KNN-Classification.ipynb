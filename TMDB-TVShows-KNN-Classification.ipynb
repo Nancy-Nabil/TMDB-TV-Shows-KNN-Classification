{
 "cells": [
  {
   "cell_type": "code",
   "execution_count": 1,
   "id": "c442a757-845b-44cd-b0e0-735280e72797",
   "metadata": {},
   "outputs": [],
   "source": [
    "# Importing necessary libraries for data manipulation, visualization, and model building\n",
    "import pandas as pd\n",
    "import numpy as np\n",
    "import matplotlib.pyplot as plt\n",
    "import seaborn as sns"
   ]
  },
  {
   "cell_type": "code",
   "execution_count": 2,
   "id": "cc79408f-629d-447e-970b-e028d29debce",
   "metadata": {},
   "outputs": [],
   "source": [
    "# Loading the dataset\n",
    "df = pd.read_csv(r\"TMDB_tv_dataset_v3.csv\")"
   ]
  },
  {
   "cell_type": "code",
   "execution_count": 3,
   "id": "71eaffa2-ce3a-4ec9-9a0a-95576f21b927",
   "metadata": {},
   "outputs": [
    {
     "data": {
      "text/html": [
       "<div>\n",
       "<style scoped>\n",
       "    .dataframe tbody tr th:only-of-type {\n",
       "        vertical-align: middle;\n",
       "    }\n",
       "\n",
       "    .dataframe tbody tr th {\n",
       "        vertical-align: top;\n",
       "    }\n",
       "\n",
       "    .dataframe thead th {\n",
       "        text-align: right;\n",
       "    }\n",
       "</style>\n",
       "<table border=\"1\" class=\"dataframe\">\n",
       "  <thead>\n",
       "    <tr style=\"text-align: right;\">\n",
       "      <th></th>\n",
       "      <th>id</th>\n",
       "      <th>name</th>\n",
       "      <th>number_of_seasons</th>\n",
       "      <th>number_of_episodes</th>\n",
       "      <th>original_language</th>\n",
       "      <th>vote_count</th>\n",
       "      <th>vote_average</th>\n",
       "      <th>overview</th>\n",
       "      <th>adult</th>\n",
       "      <th>backdrop_path</th>\n",
       "      <th>...</th>\n",
       "      <th>tagline</th>\n",
       "      <th>genres</th>\n",
       "      <th>created_by</th>\n",
       "      <th>languages</th>\n",
       "      <th>networks</th>\n",
       "      <th>origin_country</th>\n",
       "      <th>spoken_languages</th>\n",
       "      <th>production_companies</th>\n",
       "      <th>production_countries</th>\n",
       "      <th>episode_run_time</th>\n",
       "    </tr>\n",
       "  </thead>\n",
       "  <tbody>\n",
       "    <tr>\n",
       "      <th>0</th>\n",
       "      <td>1399</td>\n",
       "      <td>Game of Thrones</td>\n",
       "      <td>8</td>\n",
       "      <td>73</td>\n",
       "      <td>en</td>\n",
       "      <td>21857</td>\n",
       "      <td>8.442</td>\n",
       "      <td>Seven noble families fight for control of the ...</td>\n",
       "      <td>False</td>\n",
       "      <td>/2OMB0ynKlyIenMJWI2Dy9IWT4c.jpg</td>\n",
       "      <td>...</td>\n",
       "      <td>Winter Is Coming</td>\n",
       "      <td>Sci-Fi &amp; Fantasy, Drama, Action &amp; Adventure</td>\n",
       "      <td>David Benioff, D.B. Weiss</td>\n",
       "      <td>en</td>\n",
       "      <td>HBO</td>\n",
       "      <td>US</td>\n",
       "      <td>English</td>\n",
       "      <td>Revolution Sun Studios, Television 360, Genera...</td>\n",
       "      <td>United Kingdom, United States of America</td>\n",
       "      <td>0</td>\n",
       "    </tr>\n",
       "    <tr>\n",
       "      <th>1</th>\n",
       "      <td>71446</td>\n",
       "      <td>Money Heist</td>\n",
       "      <td>3</td>\n",
       "      <td>41</td>\n",
       "      <td>es</td>\n",
       "      <td>17836</td>\n",
       "      <td>8.257</td>\n",
       "      <td>To carry out the biggest heist in history, a m...</td>\n",
       "      <td>False</td>\n",
       "      <td>/gFZriCkpJYsApPZEF3jhxL4yLzG.jpg</td>\n",
       "      <td>...</td>\n",
       "      <td>The perfect robbery.</td>\n",
       "      <td>Crime, Drama</td>\n",
       "      <td>Álex Pina</td>\n",
       "      <td>es</td>\n",
       "      <td>Netflix, Antena 3</td>\n",
       "      <td>ES</td>\n",
       "      <td>Español</td>\n",
       "      <td>Vancouver Media</td>\n",
       "      <td>Spain</td>\n",
       "      <td>70</td>\n",
       "    </tr>\n",
       "    <tr>\n",
       "      <th>2</th>\n",
       "      <td>66732</td>\n",
       "      <td>Stranger Things</td>\n",
       "      <td>4</td>\n",
       "      <td>34</td>\n",
       "      <td>en</td>\n",
       "      <td>16161</td>\n",
       "      <td>8.624</td>\n",
       "      <td>When a young boy vanishes, a small town uncove...</td>\n",
       "      <td>False</td>\n",
       "      <td>/2MaumbgBlW1NoPo3ZJO38A6v7OS.jpg</td>\n",
       "      <td>...</td>\n",
       "      <td>Every ending has a beginning.</td>\n",
       "      <td>Drama, Sci-Fi &amp; Fantasy, Mystery</td>\n",
       "      <td>Matt Duffer, Ross Duffer</td>\n",
       "      <td>en</td>\n",
       "      <td>Netflix</td>\n",
       "      <td>US</td>\n",
       "      <td>English</td>\n",
       "      <td>21 Laps Entertainment, Monkey Massacre Product...</td>\n",
       "      <td>United States of America</td>\n",
       "      <td>0</td>\n",
       "    </tr>\n",
       "    <tr>\n",
       "      <th>3</th>\n",
       "      <td>1402</td>\n",
       "      <td>The Walking Dead</td>\n",
       "      <td>11</td>\n",
       "      <td>177</td>\n",
       "      <td>en</td>\n",
       "      <td>15432</td>\n",
       "      <td>8.121</td>\n",
       "      <td>Sheriff's deputy Rick Grimes awakens from a co...</td>\n",
       "      <td>False</td>\n",
       "      <td>/x4salpjB11umlUOltfNvSSrjSXm.jpg</td>\n",
       "      <td>...</td>\n",
       "      <td>Fight the dead. Fear the living.</td>\n",
       "      <td>Action &amp; Adventure, Drama, Sci-Fi &amp; Fantasy</td>\n",
       "      <td>Frank Darabont</td>\n",
       "      <td>en</td>\n",
       "      <td>AMC</td>\n",
       "      <td>US</td>\n",
       "      <td>English</td>\n",
       "      <td>AMC Studios, Circle of Confusion, Valhalla Mot...</td>\n",
       "      <td>United States of America</td>\n",
       "      <td>42</td>\n",
       "    </tr>\n",
       "    <tr>\n",
       "      <th>4</th>\n",
       "      <td>63174</td>\n",
       "      <td>Lucifer</td>\n",
       "      <td>6</td>\n",
       "      <td>93</td>\n",
       "      <td>en</td>\n",
       "      <td>13870</td>\n",
       "      <td>8.486</td>\n",
       "      <td>Bored and unhappy as the Lord of Hell, Lucifer...</td>\n",
       "      <td>False</td>\n",
       "      <td>/aDBRtunw49UF4XmqfyNuD9nlYIu.jpg</td>\n",
       "      <td>...</td>\n",
       "      <td>It's good to be bad.</td>\n",
       "      <td>Crime, Sci-Fi &amp; Fantasy</td>\n",
       "      <td>Tom Kapinos</td>\n",
       "      <td>en</td>\n",
       "      <td>FOX, Netflix</td>\n",
       "      <td>US</td>\n",
       "      <td>English</td>\n",
       "      <td>Warner Bros. Television, DC Entertainment, Jer...</td>\n",
       "      <td>United States of America</td>\n",
       "      <td>45</td>\n",
       "    </tr>\n",
       "  </tbody>\n",
       "</table>\n",
       "<p>5 rows × 29 columns</p>\n",
       "</div>"
      ],
      "text/plain": [
       "      id              name  number_of_seasons  number_of_episodes  \\\n",
       "0   1399   Game of Thrones                  8                  73   \n",
       "1  71446       Money Heist                  3                  41   \n",
       "2  66732   Stranger Things                  4                  34   \n",
       "3   1402  The Walking Dead                 11                 177   \n",
       "4  63174           Lucifer                  6                  93   \n",
       "\n",
       "  original_language  vote_count  vote_average  \\\n",
       "0                en       21857         8.442   \n",
       "1                es       17836         8.257   \n",
       "2                en       16161         8.624   \n",
       "3                en       15432         8.121   \n",
       "4                en       13870         8.486   \n",
       "\n",
       "                                            overview  adult  \\\n",
       "0  Seven noble families fight for control of the ...  False   \n",
       "1  To carry out the biggest heist in history, a m...  False   \n",
       "2  When a young boy vanishes, a small town uncove...  False   \n",
       "3  Sheriff's deputy Rick Grimes awakens from a co...  False   \n",
       "4  Bored and unhappy as the Lord of Hell, Lucifer...  False   \n",
       "\n",
       "                      backdrop_path  ...                           tagline  \\\n",
       "0   /2OMB0ynKlyIenMJWI2Dy9IWT4c.jpg  ...                  Winter Is Coming   \n",
       "1  /gFZriCkpJYsApPZEF3jhxL4yLzG.jpg  ...              The perfect robbery.   \n",
       "2  /2MaumbgBlW1NoPo3ZJO38A6v7OS.jpg  ...     Every ending has a beginning.   \n",
       "3  /x4salpjB11umlUOltfNvSSrjSXm.jpg  ...  Fight the dead. Fear the living.   \n",
       "4  /aDBRtunw49UF4XmqfyNuD9nlYIu.jpg  ...              It's good to be bad.   \n",
       "\n",
       "                                        genres                 created_by  \\\n",
       "0  Sci-Fi & Fantasy, Drama, Action & Adventure  David Benioff, D.B. Weiss   \n",
       "1                                 Crime, Drama                  Álex Pina   \n",
       "2             Drama, Sci-Fi & Fantasy, Mystery   Matt Duffer, Ross Duffer   \n",
       "3  Action & Adventure, Drama, Sci-Fi & Fantasy             Frank Darabont   \n",
       "4                      Crime, Sci-Fi & Fantasy                Tom Kapinos   \n",
       "\n",
       "   languages           networks  origin_country spoken_languages  \\\n",
       "0         en                HBO              US          English   \n",
       "1         es  Netflix, Antena 3              ES          Español   \n",
       "2         en            Netflix              US          English   \n",
       "3         en                AMC              US          English   \n",
       "4         en       FOX, Netflix              US          English   \n",
       "\n",
       "                                production_companies  \\\n",
       "0  Revolution Sun Studios, Television 360, Genera...   \n",
       "1                                    Vancouver Media   \n",
       "2  21 Laps Entertainment, Monkey Massacre Product...   \n",
       "3  AMC Studios, Circle of Confusion, Valhalla Mot...   \n",
       "4  Warner Bros. Television, DC Entertainment, Jer...   \n",
       "\n",
       "                       production_countries episode_run_time  \n",
       "0  United Kingdom, United States of America                0  \n",
       "1                                     Spain               70  \n",
       "2                  United States of America                0  \n",
       "3                  United States of America               42  \n",
       "4                  United States of America               45  \n",
       "\n",
       "[5 rows x 29 columns]"
      ]
     },
     "execution_count": 3,
     "metadata": {},
     "output_type": "execute_result"
    }
   ],
   "source": [
    "df.head() # Displaying the first few rows of the dataset to understand its structure"
   ]
  },
  {
   "cell_type": "code",
   "execution_count": 4,
   "id": "effe98e9-f599-436d-9374-9c7f6a0aaa33",
   "metadata": {},
   "outputs": [
    {
     "data": {
      "text/plain": [
       "(168639, 29)"
      ]
     },
     "execution_count": 4,
     "metadata": {},
     "output_type": "execute_result"
    }
   ],
   "source": [
    "df.shape  # Checking the dimensions of the dataset (rows, columns)"
   ]
  },
  {
   "cell_type": "code",
   "execution_count": 5,
   "id": "de81ef32-9df8-4d46-9094-7c5d7d35d695",
   "metadata": {},
   "outputs": [
    {
     "data": {
      "text/html": [
       "<div>\n",
       "<style scoped>\n",
       "    .dataframe tbody tr th:only-of-type {\n",
       "        vertical-align: middle;\n",
       "    }\n",
       "\n",
       "    .dataframe tbody tr th {\n",
       "        vertical-align: top;\n",
       "    }\n",
       "\n",
       "    .dataframe thead th {\n",
       "        text-align: right;\n",
       "    }\n",
       "</style>\n",
       "<table border=\"1\" class=\"dataframe\">\n",
       "  <thead>\n",
       "    <tr style=\"text-align: right;\">\n",
       "      <th></th>\n",
       "      <th>id</th>\n",
       "      <th>number_of_seasons</th>\n",
       "      <th>number_of_episodes</th>\n",
       "      <th>vote_count</th>\n",
       "      <th>vote_average</th>\n",
       "      <th>popularity</th>\n",
       "      <th>episode_run_time</th>\n",
       "    </tr>\n",
       "  </thead>\n",
       "  <tbody>\n",
       "    <tr>\n",
       "      <th>count</th>\n",
       "      <td>168639.000000</td>\n",
       "      <td>168639.000000</td>\n",
       "      <td>168639.000000</td>\n",
       "      <td>168639.000000</td>\n",
       "      <td>168639.000000</td>\n",
       "      <td>168639.000000</td>\n",
       "      <td>168639.000000</td>\n",
       "    </tr>\n",
       "    <tr>\n",
       "      <th>mean</th>\n",
       "      <td>111307.074704</td>\n",
       "      <td>1.548497</td>\n",
       "      <td>24.465082</td>\n",
       "      <td>13.305054</td>\n",
       "      <td>2.333843</td>\n",
       "      <td>5.882644</td>\n",
       "      <td>22.603348</td>\n",
       "    </tr>\n",
       "    <tr>\n",
       "      <th>std</th>\n",
       "      <td>76451.662352</td>\n",
       "      <td>2.942872</td>\n",
       "      <td>134.799622</td>\n",
       "      <td>190.809059</td>\n",
       "      <td>3.454334</td>\n",
       "      <td>42.023216</td>\n",
       "      <td>47.950427</td>\n",
       "    </tr>\n",
       "    <tr>\n",
       "      <th>min</th>\n",
       "      <td>1.000000</td>\n",
       "      <td>0.000000</td>\n",
       "      <td>0.000000</td>\n",
       "      <td>0.000000</td>\n",
       "      <td>0.000000</td>\n",
       "      <td>0.000000</td>\n",
       "      <td>0.000000</td>\n",
       "    </tr>\n",
       "    <tr>\n",
       "      <th>25%</th>\n",
       "      <td>45936.500000</td>\n",
       "      <td>1.000000</td>\n",
       "      <td>1.000000</td>\n",
       "      <td>0.000000</td>\n",
       "      <td>0.000000</td>\n",
       "      <td>0.600000</td>\n",
       "      <td>0.000000</td>\n",
       "    </tr>\n",
       "    <tr>\n",
       "      <th>50%</th>\n",
       "      <td>97734.000000</td>\n",
       "      <td>1.000000</td>\n",
       "      <td>6.000000</td>\n",
       "      <td>0.000000</td>\n",
       "      <td>0.000000</td>\n",
       "      <td>0.857000</td>\n",
       "      <td>0.000000</td>\n",
       "    </tr>\n",
       "    <tr>\n",
       "      <th>75%</th>\n",
       "      <td>196923.500000</td>\n",
       "      <td>1.000000</td>\n",
       "      <td>20.000000</td>\n",
       "      <td>1.000000</td>\n",
       "      <td>6.000000</td>\n",
       "      <td>2.431500</td>\n",
       "      <td>42.000000</td>\n",
       "    </tr>\n",
       "    <tr>\n",
       "      <th>max</th>\n",
       "      <td>251213.000000</td>\n",
       "      <td>240.000000</td>\n",
       "      <td>20839.000000</td>\n",
       "      <td>21857.000000</td>\n",
       "      <td>10.000000</td>\n",
       "      <td>3707.008000</td>\n",
       "      <td>6032.000000</td>\n",
       "    </tr>\n",
       "  </tbody>\n",
       "</table>\n",
       "</div>"
      ],
      "text/plain": [
       "                  id  number_of_seasons  number_of_episodes     vote_count  \\\n",
       "count  168639.000000      168639.000000       168639.000000  168639.000000   \n",
       "mean   111307.074704           1.548497           24.465082      13.305054   \n",
       "std     76451.662352           2.942872          134.799622     190.809059   \n",
       "min         1.000000           0.000000            0.000000       0.000000   \n",
       "25%     45936.500000           1.000000            1.000000       0.000000   \n",
       "50%     97734.000000           1.000000            6.000000       0.000000   \n",
       "75%    196923.500000           1.000000           20.000000       1.000000   \n",
       "max    251213.000000         240.000000        20839.000000   21857.000000   \n",
       "\n",
       "        vote_average     popularity  episode_run_time  \n",
       "count  168639.000000  168639.000000     168639.000000  \n",
       "mean        2.333843       5.882644         22.603348  \n",
       "std         3.454334      42.023216         47.950427  \n",
       "min         0.000000       0.000000          0.000000  \n",
       "25%         0.000000       0.600000          0.000000  \n",
       "50%         0.000000       0.857000          0.000000  \n",
       "75%         6.000000       2.431500         42.000000  \n",
       "max        10.000000    3707.008000       6032.000000  "
      ]
     },
     "execution_count": 5,
     "metadata": {},
     "output_type": "execute_result"
    }
   ],
   "source": [
    "df.describe()"
   ]
  },
  {
   "cell_type": "code",
   "execution_count": 6,
   "id": "748ac9ec-8251-41f3-b5ee-b1c059b1a412",
   "metadata": {},
   "outputs": [
    {
     "name": "stdout",
     "output_type": "stream",
     "text": [
      "<class 'pandas.core.frame.DataFrame'>\n",
      "RangeIndex: 168639 entries, 0 to 168638\n",
      "Data columns (total 29 columns):\n",
      " #   Column                Non-Null Count   Dtype  \n",
      "---  ------                --------------   -----  \n",
      " 0   id                    168639 non-null  int64  \n",
      " 1   name                  168634 non-null  object \n",
      " 2   number_of_seasons     168639 non-null  int64  \n",
      " 3   number_of_episodes    168639 non-null  int64  \n",
      " 4   original_language     168639 non-null  object \n",
      " 5   vote_count            168639 non-null  int64  \n",
      " 6   vote_average          168639 non-null  float64\n",
      " 7   overview              93333 non-null   object \n",
      " 8   adult                 168639 non-null  bool   \n",
      " 9   backdrop_path         77780 non-null   object \n",
      " 10  first_air_date        136903 non-null  object \n",
      " 11  last_air_date         138735 non-null  object \n",
      " 12  homepage              50998 non-null   object \n",
      " 13  in_production         168639 non-null  bool   \n",
      " 14  original_name         168634 non-null  object \n",
      " 15  popularity            168639 non-null  float64\n",
      " 16  poster_path           108737 non-null  object \n",
      " 17  type                  168639 non-null  object \n",
      " 18  status                168639 non-null  object \n",
      " 19  tagline               5330 non-null    object \n",
      " 20  genres                99713 non-null   object \n",
      " 21  created_by            36496 non-null   object \n",
      " 22  languages             110050 non-null  object \n",
      " 23  networks              97589 non-null   object \n",
      " 24  origin_country        137609 non-null  object \n",
      " 25  spoken_languages      109280 non-null  object \n",
      " 26  production_companies  59342 non-null   object \n",
      " 27  production_countries  77511 non-null   object \n",
      " 28  episode_run_time      168639 non-null  int64  \n",
      "dtypes: bool(2), float64(2), int64(5), object(20)\n",
      "memory usage: 35.1+ MB\n"
     ]
    }
   ],
   "source": [
    "df.info()  # Checking dataset information such as column names, data types, and non-null counts"
   ]
  },
  {
   "cell_type": "code",
   "execution_count": 7,
   "id": "b9504f27-2342-4d4f-a5c1-1de35711a82d",
   "metadata": {},
   "outputs": [
    {
     "data": {
      "text/plain": [
       "id                           0\n",
       "name                         5\n",
       "number_of_seasons            0\n",
       "number_of_episodes           0\n",
       "original_language            0\n",
       "vote_count                   0\n",
       "vote_average                 0\n",
       "overview                 75306\n",
       "adult                        0\n",
       "backdrop_path            90859\n",
       "first_air_date           31736\n",
       "last_air_date            29904\n",
       "homepage                117641\n",
       "in_production                0\n",
       "original_name                5\n",
       "popularity                   0\n",
       "poster_path              59902\n",
       "type                         0\n",
       "status                       0\n",
       "tagline                 163309\n",
       "genres                   68926\n",
       "created_by              132143\n",
       "languages                58589\n",
       "networks                 71050\n",
       "origin_country           31030\n",
       "spoken_languages         59359\n",
       "production_companies    109297\n",
       "production_countries     91128\n",
       "episode_run_time             0\n",
       "dtype: int64"
      ]
     },
     "execution_count": 7,
     "metadata": {},
     "output_type": "execute_result"
    }
   ],
   "source": [
    "df.isnull().sum()  # Check for missing values"
   ]
  },
  {
   "cell_type": "code",
   "execution_count": 8,
   "id": "99806189-5d1f-4cf2-8ff9-3d36ffe02fdd",
   "metadata": {},
   "outputs": [],
   "source": [
    "df.dropna(inplace = True)  # Drop missing rows "
   ]
  },
  {
   "cell_type": "code",
   "execution_count": 9,
   "id": "65608020-776f-458c-85a9-049668cd19e3",
   "metadata": {},
   "outputs": [
    {
     "data": {
      "text/plain": [
       "id                      0\n",
       "name                    0\n",
       "number_of_seasons       0\n",
       "number_of_episodes      0\n",
       "original_language       0\n",
       "vote_count              0\n",
       "vote_average            0\n",
       "overview                0\n",
       "adult                   0\n",
       "backdrop_path           0\n",
       "first_air_date          0\n",
       "last_air_date           0\n",
       "homepage                0\n",
       "in_production           0\n",
       "original_name           0\n",
       "popularity              0\n",
       "poster_path             0\n",
       "type                    0\n",
       "status                  0\n",
       "tagline                 0\n",
       "genres                  0\n",
       "created_by              0\n",
       "languages               0\n",
       "networks                0\n",
       "origin_country          0\n",
       "spoken_languages        0\n",
       "production_companies    0\n",
       "production_countries    0\n",
       "episode_run_time        0\n",
       "dtype: int64"
      ]
     },
     "execution_count": 9,
     "metadata": {},
     "output_type": "execute_result"
    }
   ],
   "source": [
    "df.isnull().sum()  # re-Check for missing value"
   ]
  },
  {
   "cell_type": "code",
   "execution_count": 10,
   "id": "1a2a3de4-a1fb-4fb4-819c-5201063d780e",
   "metadata": {},
   "outputs": [
    {
     "data": {
      "text/plain": [
       "1"
      ]
     },
     "execution_count": 10,
     "metadata": {},
     "output_type": "execute_result"
    }
   ],
   "source": [
    "df.duplicated().sum()"
   ]
  },
  {
   "cell_type": "code",
   "execution_count": 11,
   "id": "647c7d17-d851-4d8e-94d1-091c0e01a4b4",
   "metadata": {},
   "outputs": [],
   "source": [
    "df.drop_duplicates(inplace=True) # Removing duplicate rows from the dataset"
   ]
  },
  {
   "cell_type": "code",
   "execution_count": 12,
   "id": "248287da-277f-43b8-a11d-0ca372d63d63",
   "metadata": {},
   "outputs": [
    {
     "data": {
      "text/plain": [
       "0"
      ]
     },
     "execution_count": 12,
     "metadata": {},
     "output_type": "execute_result"
    }
   ],
   "source": [
    "# Checking if there are any remaining duplicate rows\n",
    "df.duplicated().sum()"
   ]
  },
  {
   "cell_type": "code",
   "execution_count": 13,
   "id": "456306d1-8df2-4c36-b13c-5d32009afd10",
   "metadata": {},
   "outputs": [
    {
     "data": {
      "text/plain": [
       "<Axes: xlabel='vote_average'>"
      ]
     },
     "execution_count": 13,
     "metadata": {},
     "output_type": "execute_result"
    },
    {
     "data": {
      "image/png": "[encoded data removed]",
      "text/plain": [
       "<Figure size 640x480 with 1 Axes>"
      ]
     },
     "metadata": {},
     "output_type": "display_data"
    }
   ],
   "source": [
    "# Visualizing the distribution of 'vote_average' using a boxplot it helps us to check the outliers\n",
    "sns.boxplot(x=df[\"vote_average\"])"
   ]
  },
  {
   "cell_type": "code",
   "execution_count": 14,
   "id": "06a10f34-e4a3-4a45-b184-5c3408810c74",
   "metadata": {},
   "outputs": [],
   "source": [
    "# Convert non-numeric to NaN and handle them\n",
    "df['vote_average'] = pd.to_numeric(df['vote_average'], errors='coerce')\n",
    "# Remove NaN values\n",
    "df = df.dropna(subset=[\"vote_average\"])\n",
    "# Calculate the IQR\n",
    "q1=df['vote_average'].quantile(0.25)\n",
    "q3=df['vote_average'].quantile(0.75)\n",
    "iqr=q3-q1"
   ]
  },
  {
   "cell_type": "code",
   "execution_count": 15,
   "id": "5b30d66e-8872-470e-bd76-35b51c1309fa",
   "metadata": {},
   "outputs": [
    {
     "data": {
      "text/plain": [
       "(3.2650000000000006, 11.55125)"
      ]
     },
     "execution_count": 15,
     "metadata": {},
     "output_type": "execute_result"
    }
   ],
   "source": [
    "# Define the lower and upper bounds for outliers\n",
    "lowerbound=q1-3*iqr # 3*IQR instead of 1.5*IQR for stricter filtering\n",
    "upperbound=q3+3*iqr\n",
    "lowerbound,upperbound"
   ]
  },
  {
   "cell_type": "code",
   "execution_count": 16,
   "id": "a14adcc6-3efa-42a8-bb50-7650eed80c4f",
   "metadata": {},
   "outputs": [],
   "source": [
    "# Filter the data to remove outliers\n",
    "df2=df[(df[\"vote_average\"] >= lowerbound) & (df[\"vote_average\"] <= upperbound)]"
   ]
  },
  {
   "cell_type": "code",
   "execution_count": 17,
   "id": "2be484d5-b986-4a3b-92a0-b9e6b2770e9c",
   "metadata": {},
   "outputs": [
    {
     "data": {
      "text/plain": [
       "<Axes: xlabel='vote_average'>"
      ]
     },
     "execution_count": 17,
     "metadata": {},
     "output_type": "execute_result"
    },
    {
     "data": {
      "image/png": "[encoded data removed]",
      "text/plain": [
       "<Figure size 640x480 with 1 Axes>"
      ]
     },
     "metadata": {},
     "output_type": "display_data"
    }
   ],
   "source": [
    "sns.boxplot(x=df2[\"vote_average\"], whis=3)  # Visualize the data with a boxplot\n",
    "# It is entirely normal to see small outliers after the extreme ones have been removed.\n",
    "# These small deviations are part of the natural variability in the dataset and do not indicate any issues with the data."
   ]
  },
  {
   "cell_type": "code",
   "execution_count": null,
   "id": "1336b818-a310-4d71-a124-c92e76fc5e26",
   "metadata": {},
   "outputs": [],
   "source": []
  },
  {
   "cell_type": "code",
   "execution_count": 18,
   "id": "6fe362b2-43b1-4d3a-ad0b-6f3256c3c8c8",
   "metadata": {},
   "outputs": [],
   "source": [
    "from sklearn.model_selection import train_test_split\n",
    "from sklearn.preprocessing import StandardScaler\n",
    "from sklearn.neighbors import KNeighborsClassifier\n",
    "from sklearn.metrics import accuracy_score\n",
    "\n",
    "# Step 3: Create Binary Target\n",
    "# Create a new column 'HighRated' where 1 means vote_average >= 7.5, otherwise 0\n",
    "df['HighRated'] = (df['vote_average'] >= 7.5).astype(int)\n",
    "\n",
    "# Step 4: Select Numeric Features\n",
    "# Choose relevant numeric features for training the model\n",
    "features = [\n",
    "    'number_of_seasons', 'number_of_episodes', 'vote_count',\n",
    "    'vote_average', 'popularity', 'episode_run_time'\n",
    "]\n",
    "X = df[features]\n",
    "y = df['HighRated']  # Target variable\n",
    "\n",
    "# Step 5: Drop Missing Values\n",
    "# Remove any rows with missing values in the selected features\n",
    "X = X.dropna()\n",
    "y = y.loc[X.index]  # Ensure y matches the cleaned X\n",
    "\n",
    "# Step 6: Normalize Features\n",
    "# Scale features to have mean=0 and standard deviation=1 (important for KNN)\n",
    "scaler = StandardScaler()\n",
    "X_scaled = scaler.fit_transform(X)\n",
    "\n",
    "# Step 7: Train/Validation/Test Split (60/20/20)\n",
    "# First split data into 80% train+val and 20% test\n",
    "X_train_val, X_test, y_train_val, y_test = train_test_split(\n",
    "    X_scaled, y, test_size=0.2, random_state=42, stratify=y\n",
    ")\n",
    "\n",
    "# Then split train+val into 60% train and 20% val (25% of 80% = 20%)\n",
    "X_train, X_val, y_train, y_val = train_test_split(\n",
    "    X_train_val, y_train_val, test_size=0.25, random_state=42, stratify=y_train_val\n",
    ")"
   ]
  },
  {
   "cell_type": "code",
   "execution_count": 19,
   "id": "47368be3-3120-472a-8c10-53c9d444d991",
   "metadata": {},
   "outputs": [
    {
     "data": {
      "image/png": "[encoded data removed]",
      "text/plain": [
       "<Figure size 1000x500 with 1 Axes>"
      ]
     },
     "metadata": {},
     "output_type": "display_data"
    },
    {
     "name": "stdout",
     "output_type": "stream",
     "text": [
      "Best K: 4 with validation accuracy: 0.9468\n"
     ]
    }
   ],
   "source": [
    "# Step 8 (Modified): Use full training set for K tuning\n",
    "# Try K values from 1 to 30 using the full training set\n",
    "k_values = range(1, 31)\n",
    "accuracies = []\n",
    "\n",
    "for k in k_values:\n",
    "    model = KNeighborsClassifier(n_neighbors=k)\n",
    "    model.fit(X_train, y_train)  # Train on full training set\n",
    "    y_val_pred = model.predict(X_val)  # Predict on validation set\n",
    "    acc = accuracy_score(y_val, y_val_pred)\n",
    "    accuracies.append(acc)\n",
    "\n",
    "# Step 10: Plot\n",
    "# Plot K vs. validation accuracy to visualize best K\n",
    "plt.figure(figsize=(10, 5))\n",
    "plt.plot(k_values, accuracies, marker='o')\n",
    "plt.xlabel('K')\n",
    "plt.ylabel('Validation Accuracy')\n",
    "plt.title('KNN Performance on Validation Set (Full Training Set)')\n",
    "plt.grid(True)\n",
    "plt.show()\n",
    "\n",
    "# Step 11: Print best K\n",
    "# Find K with highest validation accuracy\n",
    "best_k = k_values[accuracies.index(max(accuracies))]\n",
    "print(f\"Best K: {best_k} with validation accuracy: {max(accuracies):.4f}\")"
   ]
  },
  {
   "cell_type": "code",
   "execution_count": 20,
   "id": "26fcc51d-efe5-4944-aad3-49668cd6bbd4",
   "metadata": {},
   "outputs": [
    {
     "name": "stdout",
     "output_type": "stream",
     "text": [
      "Test Accuracy with K=4: 0.9367\n"
     ]
    }
   ],
   "source": [
    "best_k = 4  # Best K found from validation\n",
    "\n",
    "# Retrain on full training set\n",
    "# Train the final KNN model using the selected best_k\n",
    "final_knn = KNeighborsClassifier(n_neighbors=best_k)\n",
    "final_knn.fit(X_train, y_train)\n",
    "\n",
    "# Predict on test set\n",
    "# Use the final model to make predictions on the unseen test set\n",
    "y_test_pred = final_knn.predict(X_test)\n",
    "\n",
    "# Evaluate accuracy\n",
    "# Calculate and print the accuracy on the test set\n",
    "from sklearn.metrics import accuracy_score\n",
    "\n",
    "test_accuracy = accuracy_score(y_test, y_test_pred)\n",
    "print(f\"Test Accuracy with K={best_k}: {test_accuracy:.4f}\")\n",
    "\n",
    "# Save test predictions for further evaluation\n",
    "# This will be used for confusion matrix and performance metrics later\n",
    "y_test_pred_saved = y_test_pred  # Keep a copy for confusion matrix and metrics"
   ]
  },
  {
   "cell_type": "code",
   "execution_count": 21,
   "id": "263e4d2d-b09b-49e0-9bd5-9e08e92d1f6f",
   "metadata": {},
   "outputs": [
    {
     "name": "stdout",
     "output_type": "stream",
     "text": [
      "Cross-validation scores: [0.93670886 0.88607595 0.93248945 0.907173   0.91949153]\n",
      "Average CV accuracy: 0.9164\n",
      "Test Accuracy with K=4: 0.9367\n",
      "Difference between Test and CV accuracy: 0.0203\n",
      "Model may be slightly overfitting (better on test than during CV).\n"
     ]
    }
   ],
   "source": [
    "from sklearn.model_selection import cross_val_score\n",
    "from sklearn.metrics import accuracy_score\n",
    "\n",
    "# 5-Fold Cross Validation on training set\n",
    "cv_scores = cross_val_score(final_knn, X_train, y_train, cv=5, scoring='accuracy')\n",
    "avg_cv_accuracy = cv_scores.mean()\n",
    "\n",
    "print(f\"Cross-validation scores: {cv_scores}\")\n",
    "print(f\"Average CV accuracy: {avg_cv_accuracy:.4f}\")\n",
    "\n",
    "# Test set accuracy (already calculated earlier)\n",
    "test_accuracy = accuracy_score(y_test, y_test_pred_saved)\n",
    "print(f\"Test Accuracy with K={best_k}: {test_accuracy:.4f}\")\n",
    "\n",
    "# Compare test accuracy and CV accuracy\n",
    "accuracy_diff = abs(test_accuracy - avg_cv_accuracy)\n",
    "print(f\"Difference between Test and CV accuracy: {accuracy_diff:.4f}\")\n",
    "\n",
    "# Interpretation\n",
    "if accuracy_diff < 0.02:\n",
    "    print(\"Model performance is stable (no signs of overfitting or underfitting).\")\n",
    "elif test_accuracy > avg_cv_accuracy:\n",
    "    print(\"Model may be slightly overfitting (better on test than during CV).\")\n",
    "else:\n",
    "    print(\"Model may be slightly underfitting (worse on test than during CV).\")"
   ]
  },
  {
   "cell_type": "code",
   "execution_count": 22,
   "id": "9791b0b9-ccbc-4c74-bcfb-2eba26203d73",
   "metadata": {},
   "outputs": [
    {
     "data": {
      "image/png": "[encoded data removed]",
      "text/plain": [
       "<Figure size 640x480 with 2 Axes>"
      ]
     },
     "metadata": {},
     "output_type": "display_data"
    },
    {
     "name": "stdout",
     "output_type": "stream",
     "text": [
      "Classification Report:\n",
      "\n",
      "              precision    recall  f1-score   support\n",
      "\n",
      "   Low Rated       0.93      0.95      0.94       204\n",
      "  High Rated       0.95      0.92      0.93       191\n",
      "\n",
      "    accuracy                           0.94       395\n",
      "   macro avg       0.94      0.94      0.94       395\n",
      "weighted avg       0.94      0.94      0.94       395\n",
      "\n"
     ]
    }
   ],
   "source": [
    "from sklearn.metrics import confusion_matrix, classification_report, ConfusionMatrixDisplay\n",
    "\n",
    "# Confusion matrix\n",
    "# Compute and display the confusion matrix for test predictions\n",
    "cm = confusion_matrix(y_test, y_test_pred)\n",
    "disp = ConfusionMatrixDisplay(confusion_matrix=cm, display_labels=[\"Low Rated\", \"High Rated\"])\n",
    "disp.plot(cmap=\"Blues\")\n",
    "plt.title(\"Confusion Matrix on Test Set\")\n",
    "plt.show()\n",
    "\n",
    "# Detailed metrics\n",
    "# Print precision, recall, and F1-score for each class\n",
    "print(\"Classification Report:\\n\")\n",
    "print(classification_report(y_test, y_test_pred, target_names=[\"Low Rated\", \"High Rated\"]))"
   ]
  },
  {
   "cell_type": "code",
   "execution_count": 23,
   "id": "30133677-972b-4f0e-b9ad-a9ff0e849d2f",
   "metadata": {},
   "outputs": [
    {
     "data": {
      "image/png": "[encoded data removed]",
      "text/plain": [
       "<Figure size 800x500 with 1 Axes>"
      ]
     },
     "metadata": {},
     "output_type": "display_data"
    }
   ],
   "source": [
    "from sklearn.decomposition import PCA\n",
    "\n",
    "# Reduce to 2D\n",
    "# Use PCA to reduce the scaled feature space to 2D for visualization\n",
    "pca = PCA(n_components=2)\n",
    "X_2d = pca.fit_transform(X_scaled)\n",
    "\n",
    "# Plot 2D scatter\n",
    "# Create a scatter plot where color indicates whether the show is HighRated\n",
    "plt.figure(figsize=(8, 5))\n",
    "plt.scatter(X_2d[:, 0], X_2d[:, 1], c=y, cmap='coolwarm', alpha=0.4)\n",
    "plt.title(\"2D PCA Projection of TV Shows (Color = HighRated)\")\n",
    "plt.xlabel(\"PCA 1\")\n",
    "plt.ylabel(\"PCA 2\")\n",
    "plt.grid(True)\n",
    "plt.show()"
   ]
  },
  {
   "cell_type": "code",
   "execution_count": 24,
   "id": "e348f405-6264-47e1-87d9-9fc0c4795e2c",
   "metadata": {},
   "outputs": [],
   "source": [
    "######### Report ########\n",
    "\n",
    "## KNN Classification Report: TMDB TV Shows Dataset\n",
    "\n",
    "### 1. Introduction\n",
    "#This project uses a cleaned version of the TMDB TV Shows dataset to predict whether a TV show is \"highly rated\" based on several numeric attributes. \n",
    "#The classification model used is K-Nearest Neighbors (KNN). The target label is binary: `1` if a show's average vote is >= 7.5, and `0` otherwise.\n",
    "\n",
    "### 2. Data Preprocessing\n",
    "#- **Selected Features**: number_of_seasons, number_of_episodes, vote_count, vote_average, popularity, episode_run_time\n",
    "#- **Target Variable**: HighRated (1 for vote_average >= 7.5)\n",
    "#- **Missing Values**: Rows with missing values in selected features were dropped.\n",
    "#- **Normalization**: All numeric features were standardized using `StandardScaler`.\n",
    "#- **Splits**:\n",
    "#  - Training: 60%\n",
    "#  - Validation: 20%\n",
    "#  - Test: 20%\n",
    "#  - Stratification was applied to preserve class distribution.\n",
    "\n",
    "### 3. KNN Model\n",
    "#- **Library**: scikit-learn\n",
    "#- **K Tuning**: Values of K from 1 to 30 were tested using a smaller training subset (~60% of available train data)\n",
    "#- **Best K Value**: (4)\n",
    "#- **Validation Accuracy**: (0.9468)\n",
    "\n",
    "### 4. Cross-Validation\n",
    "#- **Method**: 5-Fold Cross-Validation on the full training set\n",
    "#- **Average Accuracy**: (0.9164)\n",
    "\n",
    "### 5. Confusion Matrix Analysis\n",
    "#- **Test Accuracy**: (0.9367)\n",
    "#- **Confusion Matrix**:\n",
    "#  - True Positives (TP): 176\n",
    "#  - True Negatives (TN): 194\n",
    "#  - False Positives (FP): 10\n",
    "#  - False Negatives (FN): 15\n",
    "#- **Metrics**:\n",
    "#  - Precision: 0.95 \n",
    "#  - Recall: 0.92 \n",
    "#  - F1-score:  0.93\n",
    "\n",
    "### 6. Overfitting Discussion\n",
    "#- The validation and test accuracies were close, suggesting minimal overfitting.\n",
    "#- Cross-validation confirmed robustness with stable performance across folds.\n",
    "#- Techniques to mitigate overfitting used:\n",
    "#  - Proper K tuning (higher K reduces variance)\n",
    "#  - Feature normalization\n",
    "#  - Stratified data splits\n",
    "\n",
    "### 7. Visualizations\n",
    "#- **Confusion Matrix**: Heatmap plotted for visual clarity.\n",
    "#- **Optional PCA**: 2D plot of data using PCA showed some separation between classes, although overlap exists.\n",
    "\n",
    "### 8. Conclusion\n",
    "#The KNN model performed well in classifying TV shows into high-rated vs. low-rated, despite class imbalance.\n",
    "#Cross-validation confirmed model generalization. Future improvements could include more feature engineering, ensemble methods, or handling the class imbalance more directly.\n",
    "\n"
   ]
  }
 ],
 "metadata": {
  "kernelspec": {
   "display_name": "base",
   "language": "python",
   "name": "python3"
  },
  "language_info": {
   "codemirror_mode": {
    "name": "ipython",
    "version": 3
   },
   "file_extension": ".py",
   "mimetype": "text/x-python",
   "name": "python",
   "nbconvert_exporter": "python",
   "pygments_lexer": "ipython3",
   "version": "3.12.7"
  }
 },
 "nbformat": 4,
 "nbformat_minor": 5
}
